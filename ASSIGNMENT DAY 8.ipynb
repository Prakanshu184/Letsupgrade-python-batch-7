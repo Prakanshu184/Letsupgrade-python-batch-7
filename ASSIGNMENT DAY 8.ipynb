{
 "cells": [
  {
   "cell_type": "markdown",
   "metadata": {},
   "source": [
    "# ANSWER 1"
   ]
  },
  {
   "cell_type": "code",
   "execution_count": 1,
   "metadata": {},
   "outputs": [
    {
     "name": "stdout",
     "output_type": "stream",
     "text": [
      "Enter number: 20\n",
      "Fibonacci Series for the given input\n",
      "0 1 1 2 3 5 8 13 21 34 55 89 144 233 377 610 987 1597 2584 4181 None\n"
     ]
    }
   ],
   "source": [
    "def decorator_function(any_function):\n",
    "  def wrapper_function(*args):\n",
    "    print(\"Fibonacci Series for the given input\")\n",
    "    return any_function(*args)\n",
    "  return wrapper_function\n",
    "\n",
    "\n",
    "@decorator_function\n",
    "def fibonacci_sqe(n):\n",
    "    a = 0\n",
    "    b = 1 \n",
    "    if n == 1:\n",
    "        print(a)\n",
    "    elif n == 2:\n",
    "        print(a,b)\n",
    "    else:\n",
    "        print(a,b, end=\" \")\n",
    "        for i in range(n-2):\n",
    "            c = a + b\n",
    "            a = b\n",
    "            b = c\n",
    "            print(b, end=\" \")\n",
    "\n",
    "x = int(input(\"Enter number: \")) \n",
    "print(fibonacci_sqe(x))"
   ]
  },
  {
   "cell_type": "markdown",
   "metadata": {},
   "source": [
    "# ANSWER 2"
   ]
  },
  {
   "cell_type": "code",
   "execution_count": 2,
   "metadata": {},
   "outputs": [
    {
     "name": "stdout",
     "output_type": "stream",
     "text": [
      "can't find file or write data\n"
     ]
    }
   ],
   "source": [
    "try:\n",
    "    file=open(\"MD.txt\",\"r\")\n",
    "    file.write(\"This is my test file for exception handling!!!\")\n",
    "except IOError:\n",
    "    print(\"can't find file or write data\")\n",
    "else:\n",
    "    print(\"The file have been suceesfully read\")\n",
    "    file.close()"
   ]
  },
  {
   "cell_type": "code",
   "execution_count": null,
   "metadata": {},
   "outputs": [],
   "source": []
  }
 ],
 "metadata": {
  "kernelspec": {
   "display_name": "Python 3",
   "language": "python",
   "name": "python3"
  },
  "language_info": {
   "codemirror_mode": {
    "name": "ipython",
    "version": 3
   },
   "file_extension": ".py",
   "mimetype": "text/x-python",
   "name": "python",
   "nbconvert_exporter": "python",
   "pygments_lexer": "ipython3",
   "version": "3.7.6"
  }
 },
 "nbformat": 4,
 "nbformat_minor": 4
}
