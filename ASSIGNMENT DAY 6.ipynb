{
 "cells": [
  {
   "cell_type": "markdown",
   "metadata": {},
   "source": [
    "# ANSWER 1"
   ]
  },
  {
   "cell_type": "code",
   "execution_count": 1,
   "metadata": {},
   "outputs": [],
   "source": [
    "class Bank_Account:\n",
    "    def __init__(self,Owner_name):\n",
    "        self.balance=0\n",
    "        self.Owner_name = Owner_name\n",
    "        print(f\"Hello!!! {self.Owner_name} Welcome to the deposit & Withdrawl Machine\")\n",
    "\n",
    "    def deposit(self):\n",
    "        amount=float(input(\"Enter amount to be Deposited:\"))\n",
    "        self.balance+=amount\n",
    "        print(\"\\n Amount Deposited:\",amount)\n",
    "\n",
    "    def withdraw(self):\n",
    "        amount=float(input(\"Enter amount to be Withdrawn:\"))\n",
    "        if self.balance>=amount:\n",
    "            self.balance-=amount\n",
    "            print(\"\\n Withdraw amount:\",amount)\n",
    "        else:\n",
    "               print(\"\\n Insufficient balance\")\n",
    "\n",
    "    def display(self):\n",
    "        print(\"\\n Net Available Balance=\",self.balance)"
   ]
  },
  {
   "cell_type": "code",
   "execution_count": 2,
   "metadata": {},
   "outputs": [
    {
     "name": "stdout",
     "output_type": "stream",
     "text": [
      "Enter Your Name:-PRAKANSHU MISHRA\n",
      "Hello!!! PRAKANSHU MISHRA Welcome to the deposit & Withdrawl Machine\n"
     ]
    }
   ],
   "source": [
    "s=Bank_Account(input('Enter Your Name:-'))"
   ]
  },
  {
   "cell_type": "code",
   "execution_count": 3,
   "metadata": {},
   "outputs": [
    {
     "name": "stdout",
     "output_type": "stream",
     "text": [
      "Enter amount to be Deposited:50000\n",
      "\n",
      " Amount Deposited: 50000.0\n",
      "Enter amount to be Withdrawn:10000\n",
      "\n",
      " Withdraw amount: 10000.0\n",
      "\n",
      " Net Available Balance= 40000.0\n"
     ]
    }
   ],
   "source": [
    "s.deposit()\n",
    "s.withdraw()\n",
    "s.display()"
   ]
  },
  {
   "cell_type": "code",
   "execution_count": null,
   "metadata": {},
   "outputs": [],
   "source": []
  }
 ],
 "metadata": {
  "kernelspec": {
   "display_name": "Python 3",
   "language": "python",
   "name": "python3"
  },
  "language_info": {
   "codemirror_mode": {
    "name": "ipython",
    "version": 3
   },
   "file_extension": ".py",
   "mimetype": "text/x-python",
   "name": "python",
   "nbconvert_exporter": "python",
   "pygments_lexer": "ipython3",
   "version": "3.7.6"
  }
 },
 "nbformat": 4,
 "nbformat_minor": 4
}
