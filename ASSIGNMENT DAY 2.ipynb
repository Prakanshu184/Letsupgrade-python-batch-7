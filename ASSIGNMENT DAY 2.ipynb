{
 "cells": [
  {
   "cell_type": "code",
   "execution_count": 1,
   "metadata": {},
   "outputs": [],
   "source": [
    "lst = [\"PRAKANSHU\",20,1701230041,123.45,[1,2,3]]"
   ]
  },
  {
   "cell_type": "code",
   "execution_count": 2,
   "metadata": {},
   "outputs": [
    {
     "data": {
      "text/plain": [
       "['PRAKANSHU', 20, 1701230041, 123.45, [1, 2, 3]]"
      ]
     },
     "execution_count": 2,
     "metadata": {},
     "output_type": "execute_result"
    }
   ],
   "source": [
    "lst"
   ]
  },
  {
   "cell_type": "code",
   "execution_count": 3,
   "metadata": {},
   "outputs": [
    {
     "data": {
      "text/plain": [
       "123.45"
      ]
     },
     "execution_count": 3,
     "metadata": {},
     "output_type": "execute_result"
    }
   ],
   "source": [
    "lst[3]"
   ]
  },
  {
   "cell_type": "code",
   "execution_count": 4,
   "metadata": {},
   "outputs": [],
   "source": [
    "lst.append(\"akash\") "
   ]
  },
  {
   "cell_type": "code",
   "execution_count": 6,
   "metadata": {},
   "outputs": [
    {
     "data": {
      "text/plain": [
       "['PRAKANSHU', 20, 1701230041, 123.45, [1, 2, 3], 'akash']"
      ]
     },
     "execution_count": 6,
     "metadata": {},
     "output_type": "execute_result"
    }
   ],
   "source": [
    "lst"
   ]
  },
  {
   "cell_type": "code",
   "execution_count": 7,
   "metadata": {},
   "outputs": [],
   "source": [
    "lst1 =[\"PRAKANSHU\",10]\n"
   ]
  },
  {
   "cell_type": "code",
   "execution_count": 8,
   "metadata": {},
   "outputs": [
    {
     "data": {
      "text/plain": [
       "['PRAKANSHU', 10]"
      ]
     },
     "execution_count": 8,
     "metadata": {},
     "output_type": "execute_result"
    }
   ],
   "source": [
    "lst1"
   ]
  },
  {
   "cell_type": "code",
   "execution_count": 9,
   "metadata": {},
   "outputs": [],
   "source": [
    "lst1.clear() "
   ]
  },
  {
   "cell_type": "code",
   "execution_count": 10,
   "metadata": {},
   "outputs": [
    {
     "data": {
      "text/plain": [
       "[]"
      ]
     },
     "execution_count": 10,
     "metadata": {},
     "output_type": "execute_result"
    }
   ],
   "source": [
    "lst1"
   ]
  },
  {
   "cell_type": "code",
   "execution_count": 11,
   "metadata": {},
   "outputs": [
    {
     "data": {
      "text/plain": [
       "['PRAKANSHU', 20, 1701230041, 123.45, [1, 2, 3], 'akash']"
      ]
     },
     "execution_count": 11,
     "metadata": {},
     "output_type": "execute_result"
    }
   ],
   "source": [
    "lst.copy() "
   ]
  },
  {
   "cell_type": "code",
   "execution_count": 12,
   "metadata": {},
   "outputs": [
    {
     "data": {
      "text/plain": [
       "[]"
      ]
     },
     "execution_count": 12,
     "metadata": {},
     "output_type": "execute_result"
    }
   ],
   "source": [
    "lst1.copy()"
   ]
  },
  {
   "cell_type": "code",
   "execution_count": 15,
   "metadata": {},
   "outputs": [
    {
     "name": "stdout",
     "output_type": "stream",
     "text": [
      "1\n"
     ]
    }
   ],
   "source": [
    "print(lst.index(20))\n"
   ]
  },
  {
   "cell_type": "code",
   "execution_count": 16,
   "metadata": {},
   "outputs": [
    {
     "name": "stdout",
     "output_type": "stream",
     "text": [
      "['PRAKANSHU', 1701230041, 123.45, [1, 2, 3], 'akash']\n",
      "['akash', [1, 2, 3], 123.45, 1701230041, 'PRAKANSHU']\n"
     ]
    }
   ],
   "source": [
    "lst.remove(20)\n",
    "print(lst)\n",
    "\n",
    "#reverse function\n",
    "lst.reverse()\n",
    "print(lst)"
   ]
  },
  {
   "cell_type": "markdown",
   "metadata": {},
   "source": [
    "# DICTIONARY AND IT'S DEFAULT FUNCTION"
   ]
  },
  {
   "cell_type": "code",
   "execution_count": 17,
   "metadata": {},
   "outputs": [
    {
     "name": "stdout",
     "output_type": "stream",
     "text": [
      "dict_items([('name', 'PRAKANSHU'), ('Address', 'KANPUR'), ('mobile no', 1234567890), ('email', 'XYZ@gmail.com')])\n",
      "{'name': 'PRAKANSHU', 'mobile no': 1234567890, 'email': 'XYZ@gmail.com'}\n",
      "dict_keys(['name', 'mobile no', 'email'])\n",
      "original dictionary: {'name': 'PRAKANSHU', 'mobile no': 1234567890, 'email': 'XYZ@gmail.com'}\n",
      "New dictionary: {'name': 'PRAKANSHU', 'mobile no': 1234567890, 'email': 'XYZ@gmail.com'}\n",
      "mail of the dict1 is: XYZ@gmail.com\n"
     ]
    }
   ],
   "source": [
    "dict1={'name':'PRAKANSHU',\n",
    "       'Address':'KANPUR',\n",
    "       'mobile no':1234567890,\n",
    "       'email':'XYZ@gmail.com'}\n",
    "\n",
    "#items function\n",
    "print(dict1.items())\n",
    "\n",
    "#pop function\n",
    "dict1.pop('Address')\n",
    "print(dict1)\n",
    "\n",
    "#keys function\n",
    "print(dict1.keys())\n",
    "\n",
    "#copy function\n",
    "newdict=dict1.copy()\n",
    "print('original dictionary:',dict1)\n",
    "print('New dictionary:',newdict)\n",
    "\n",
    "#get function\n",
    "print('mail of the dict1 is:',dict1.get('email'))"
   ]
  },
  {
   "cell_type": "markdown",
   "metadata": {},
   "source": [
    "# Sets and its default functions"
   ]
  },
  {
   "cell_type": "code",
   "execution_count": 18,
   "metadata": {},
   "outputs": [
    {
     "name": "stdout",
     "output_type": "stream",
     "text": [
      "{'cherry', 'banana', 'strawbeery', 'apple'}\n",
      "{'cherry', 'banana', 'strawbeery', 'apple'}\n",
      "{'cherry', 'banana', 'strawbeery'}\n",
      "{'strawbeery', 'cherry', 'banana', 'orange', 'mango', 'apple'}\n",
      "set()\n"
     ]
    }
   ],
   "source": [
    "fruits={'apple','banana','cherry'}\n",
    "fruits1={'mango','orange','apple'}\n",
    "\n",
    "#add function\n",
    "fruits.add('strawbeery')\n",
    "print(fruits)\n",
    "\n",
    "#copy function\n",
    "x=fruits.copy()\n",
    "print(x)\n",
    "\n",
    "#discard function\n",
    "fruits.discard('apple')\n",
    "print(fruits)\n",
    "\n",
    "#update function\n",
    "fruits.update(fruits1)\n",
    "print(fruits)\n",
    "\n",
    "#clear function\n",
    "fruits.clear()\n",
    "print(fruits)"
   ]
  },
  {
   "cell_type": "markdown",
   "metadata": {},
   "source": [
    "# Tuple and explore default methods"
   ]
  },
  {
   "cell_type": "code",
   "execution_count": 19,
   "metadata": {},
   "outputs": [
    {
     "name": "stdout",
     "output_type": "stream",
     "text": [
      "2\n",
      "3\n",
      "5\n",
      "('a', 'r', 's')\n",
      "('p', 'a', 'r', 's', 'o', 'i', 'm', 'g')\n"
     ]
    }
   ],
   "source": [
    "tuple1=(1,3,7,8,7,5,4,6,8,5)\n",
    "\n",
    "#i) count method\n",
    "x=tuple1.count(5)\n",
    "print(x)\n",
    "\n",
    "#ii) index method\n",
    "x=tuple1.index(8)\n",
    "print(x)\n",
    "\n",
    "#iii)negative indexing method\n",
    "print(tuple1[-1])\n",
    "\n",
    "#iv) slicing method\n",
    "tuple2=('p','a','r','s','o','i','m','g')\n",
    "\n",
    "#print elements 2nd to 4th\n",
    "print (tuple2[1:4])\n",
    "\n",
    "#v) elements begining to end\n",
    "print(tuple2[:])"
   ]
  },
  {
   "cell_type": "markdown",
   "metadata": {},
   "source": [
    "# string and explore default methods"
   ]
  },
  {
   "cell_type": "code",
   "execution_count": 20,
   "metadata": {},
   "outputs": [
    {
     "name": "stdout",
     "output_type": "stream",
     "text": [
      "Hello,good evening\n",
      "           hello,good evening           \n",
      "b'hello,good evening'\n",
      "11\n",
      "h*e*l*l*o*,*g*o*o*d* *e*v*e*n*i*n*g\n"
     ]
    }
   ],
   "source": [
    "text=\"hello,good evening\"\n",
    "\n",
    "#capitalize method\n",
    "x=text.capitalize()\n",
    "print(x)\n",
    "\n",
    "#center method\n",
    "x=text.center(40)\n",
    "print(x)\n",
    "\n",
    "#encode method\n",
    "x=text.encode()\n",
    "print(x)\n",
    "\n",
    "#find method\n",
    "x=text.find('evening')\n",
    "print(x)\n",
    "\n",
    "#join method\n",
    "x='*'.join(text)\n",
    "print(x)"
   ]
  },
  {
   "cell_type": "code",
   "execution_count": null,
   "metadata": {},
   "outputs": [],
   "source": []
  }
 ],
 "metadata": {
  "kernelspec": {
   "display_name": "Python 3",
   "language": "python",
   "name": "python3"
  },
  "language_info": {
   "codemirror_mode": {
    "name": "ipython",
    "version": 3
   },
   "file_extension": ".py",
   "mimetype": "text/x-python",
   "name": "python",
   "nbconvert_exporter": "python",
   "pygments_lexer": "ipython3",
   "version": "3.7.6"
  }
 },
 "nbformat": 4,
 "nbformat_minor": 4
}
